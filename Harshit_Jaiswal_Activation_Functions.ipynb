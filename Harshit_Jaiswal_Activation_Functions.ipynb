{
  "nbformat": 4,
  "nbformat_minor": 0,
  "metadata": {
    "colab": {
      "provenance": []
    },
    "kernelspec": {
      "name": "python3",
      "display_name": "Python 3"
    },
    "language_info": {
      "name": "python"
    }
  },
  "cells": [
    {
      "cell_type": "markdown",
      "source": [
        "# **Binary Step Function**\n",
        "**f(x) = 1,    x>=0,     \n",
        "x<0**"
      ],
      "metadata": {
        "id": "hqZ6PHh1hdGn"
      }
    },
    {
      "cell_type": "code",
      "execution_count": null,
      "metadata": {
        "colab": {
          "base_uri": "https://localhost:8080/"
        },
        "id": "juy5I8Quhcci",
        "outputId": "ed73444a-7c70-4d32-f22b-c88436d9c292"
      },
      "outputs": [
        {
          "output_type": "execute_result",
          "data": {
            "text/plain": [
              "0"
            ]
          },
          "metadata": {},
          "execution_count": 2
        }
      ],
      "source": [
        "def binary_step(x):\n",
        "  if x<0:\n",
        "    return 0\n",
        "  else:\n",
        "    return 1\n",
        "binary_step(-1)"
      ]
    },
    {
      "cell_type": "markdown",
      "source": [
        "# **Linear Function**\n",
        "**f(x)=ax**"
      ],
      "metadata": {
        "id": "BkfuQTJUh9Pw"
      }
    },
    {
      "cell_type": "code",
      "source": [
        "def linear_function(x):\n",
        "  return 4*x\n",
        "linear_function(4), linear_function(-2)"
      ],
      "metadata": {
        "colab": {
          "base_uri": "https://localhost:8080/"
        },
        "id": "EgYC_3fLh_do",
        "outputId": "84ea7a08-fc44-4e72-b4aa-6df3f570ea92"
      },
      "execution_count": null,
      "outputs": [
        {
          "output_type": "execute_result",
          "data": {
            "text/plain": [
              "(16, -8)"
            ]
          },
          "metadata": {},
          "execution_count": 3
        }
      ]
    },
    {
      "cell_type": "markdown",
      "source": [
        "# **Sigmoid**\n",
        "The next activation function that we are going to look at is the Sigmoid function.\n",
        "It is one of the most widely used non-linear activation function.\n",
        "Sigmoid transforms the values between the range 0 and 1.\n",
        "Here is the mathematical expression for sigmoid-\n",
        "f(x) = 1/(1+e^-x)"
      ],
      "metadata": {
        "id": "Egk1Ti97iQ0G"
      }
    },
    {
      "cell_type": "code",
      "source": [
        "import numpy as np\n",
        "def sigmoid_function(x):\n",
        "  z = (1/(1 + np.exp(-x)))\n",
        "  return z\n",
        "sigmoid_function(7),sigmoid_function(-22)"
      ],
      "metadata": {
        "colab": {
          "base_uri": "https://localhost:8080/"
        },
        "id": "T3IGaRXziYmv",
        "outputId": "17f0d5dc-44d1-44fa-a6d4-c60d8befccd1"
      },
      "execution_count": null,
      "outputs": [
        {
          "output_type": "execute_result",
          "data": {
            "text/plain": [
              "(0.9990889488055994, 2.7894680920908113e-10)"
            ]
          },
          "metadata": {},
          "execution_count": 4
        }
      ]
    },
    {
      "cell_type": "markdown",
      "source": [
        "# **Tanh**\n",
        "The tanh function is very similar to the sigmoid function. The only difference is that it is\n",
        "symmetric around the origin. The range of values in this case is from -1 to 1. Thus the inputs to\n",
        "the next layers will not always be of the same sign. The tanh function is defined as-\n",
        "tanh(x)=2sigmoid(2x)-1\n",
        "\n",
        "tanh(x) = 2/(1+e^(-2x)) -1"
      ],
      "metadata": {
        "id": "3nn0NHOeifcC"
      }
    },
    {
      "cell_type": "code",
      "source": [
        "def tanh_function(x):\n",
        "  z = (2/(1 + np.exp(-2*x))) -1\n",
        "  return z\n",
        "tanh_function(0.5), tanh_function(-1)"
      ],
      "metadata": {
        "colab": {
          "base_uri": "https://localhost:8080/"
        },
        "id": "SVsKj0iqilEj",
        "outputId": "31544a68-7a0e-4133-d098-412eeef95dab"
      },
      "execution_count": null,
      "outputs": [
        {
          "output_type": "execute_result",
          "data": {
            "text/plain": [
              "(0.4621171572600098, -0.7615941559557649)"
            ]
          },
          "metadata": {},
          "execution_count": 5
        }
      ]
    },
    {
      "cell_type": "markdown",
      "source": [
        "# **ReLU - Rectified Linear Unit**\n",
        "The ReLU function is another non-linear activation function.\n",
        "The main advantage is that it does not activate all the neurons at the same time.   \n",
        "This means that the neurons will only be deactivated if the output of the linear transformation is\n",
        "less than 0.    \n",
        "f(x)=max(0,x)   \n",
        "Negative input values --> the result is zero, that means the neuron does not get activated.   \n",
        "Since only a certain number of neurons are activated, the ReLU function is far more computationally efficient when compared to the sigmoid and tanh function."
      ],
      "metadata": {
        "id": "RPIkYQ0ziqQZ"
      }
    },
    {
      "cell_type": "code",
      "source": [
        "def relu_function(x):\n",
        "  if x<0:\n",
        "    return 0\n",
        "  else:\n",
        "    return x\n",
        "relu_function(7), relu_function(-7)"
      ],
      "metadata": {
        "colab": {
          "base_uri": "https://localhost:8080/"
        },
        "id": "xWjRZrlKizjR",
        "outputId": "c199aee3-f1d2-4f70-b56c-62862b5d8aaa"
      },
      "execution_count": null,
      "outputs": [
        {
          "output_type": "execute_result",
          "data": {
            "text/plain": [
              "(7, 0)"
            ]
          },
          "metadata": {},
          "execution_count": 6
        }
      ]
    },
    {
      "cell_type": "markdown",
      "source": [
        "# **Leaky ReLU**\n",
        "Leaky ReLU function is an improved version of the ReLU function.\n",
        "As we saw that for the ReLU function, the gradient is 0 for x<0, which would deactivate the neurons in that region.\n",
        "Leaky ReLU is defined to address this problem.\n",
        "Instead of defining the Relu function as 0 for negative values of x, we define it as an extremely\n",
        "small linear component of x.\n",
        "\n",
        "Here is the mathematical expression-   \n",
        "f(x)= 0.01x,         x<0\n",
        "= x, x>=0"
      ],
      "metadata": {
        "id": "1vd9VnuXi4q9"
      }
    },
    {
      "cell_type": "code",
      "source": [
        "def leaky_relu_function(x):\n",
        "  if x<0:\n",
        "    return 0.01*x\n",
        "  else:\n",
        "    return x\n",
        "leaky_relu_function(7), leaky_relu_function(-7)"
      ],
      "metadata": {
        "colab": {
          "base_uri": "https://localhost:8080/"
        },
        "id": "TqVrYSlgi4eO",
        "outputId": "daee9dbe-d406-40da-98ce-3efb778acd86"
      },
      "execution_count": null,
      "outputs": [
        {
          "output_type": "execute_result",
          "data": {
            "text/plain": [
              "(7, -0.07)"
            ]
          },
          "metadata": {},
          "execution_count": 7
        }
      ]
    },
    {
      "cell_type": "markdown",
      "source": [
        "# **Parameterised ReLU**\n",
        "The parameterised ReLU introduces a new parameter as a slope of the negative part of the\n",
        "function.\n",
        "\n",
        "Here’s how the ReLU function is modified to incorporate the slope parameter-\n",
        "f(x) = x, x>=0\n",
        "\n",
        "= ax, x<0\n",
        "\n",
        "When the value of a is fixed to 0.01, the function acts as a Leaky ReLU function.\n",
        "However, in case of a parameterised ReLU function, ‘a‘ is also a trainable parameter .\n",
        "The network also learns the value of ‘a‘ for faster and more optimum convergence."
      ],
      "metadata": {
        "id": "citYkPH3jQtz"
      }
    },
    {
      "cell_type": "markdown",
      "source": [
        "#**Exponential Linear Unit - ELU**\n",
        "Exponential Linear Unit a variant of Rectiufied Linear Unit (ReLU) that modifies the slope of the\n",
        "negative part of the function.\n",
        "Unlike the leaky relu and parametric ReLU functions, instead of a straight line, ELU uses a log\n",
        "curve for defning the negatice values.\n",
        "It is defined as\n",
        "\n",
        "f(x) = x, x>=0\n",
        "= a(e^x-1), x<0"
      ],
      "metadata": {
        "id": "Vw07nobTj18U"
      }
    },
    {
      "cell_type": "code",
      "source": [
        "def elu_function(x, a):\n",
        "  if x<0:\n",
        "    return a*(np.exp(x)-1)\n",
        "  else:\n",
        "    return x\n",
        "elu_function(5, 0.1),elu_function(-5, 0.1)"
      ],
      "metadata": {
        "colab": {
          "base_uri": "https://localhost:8080/"
        },
        "id": "vnKcA6-JjU4p",
        "outputId": "6d9ccc94-a9d3-4251-df64-7cdfcaa830c1"
      },
      "execution_count": null,
      "outputs": [
        {
          "output_type": "execute_result",
          "data": {
            "text/plain": [
              "(5, -0.09932620530009145)"
            ]
          },
          "metadata": {},
          "execution_count": 8
        }
      ]
    },
    {
      "cell_type": "markdown",
      "source": [
        "# **Swish**"
      ],
      "metadata": {
        "id": "C1Pj1XHNkIRR"
      }
    },
    {
      "cell_type": "code",
      "source": [
        "def swish_function(x):\n",
        "  return x/(1-np.exp(-x))\n",
        "swish_function(-67), swish_function(4)"
      ],
      "metadata": {
        "colab": {
          "base_uri": "https://localhost:8080/"
        },
        "id": "zQcKroKPkJcY",
        "outputId": "62108e47-a747-4ee9-c69d-f90b55e92bff"
      },
      "execution_count": null,
      "outputs": [
        {
          "output_type": "execute_result",
          "data": {
            "text/plain": [
              "(5.349885844610276e-28, 4.074629441455096)"
            ]
          },
          "metadata": {},
          "execution_count": 9
        }
      ]
    },
    {
      "cell_type": "markdown",
      "source": [
        "# **Softmax**"
      ],
      "metadata": {
        "id": "sz2Msm2JkOJY"
      }
    },
    {
      "cell_type": "code",
      "source": [
        "def softmax_function(x):\n",
        "  z = np.exp(x)\n",
        "  z_ = z/z.sum()\n",
        "  return z_\n",
        "softmax_function([0.8, 1.2, 3.1])"
      ],
      "metadata": {
        "colab": {
          "base_uri": "https://localhost:8080/"
        },
        "id": "kXPLumAekN04",
        "outputId": "965f5d2b-5699-4f6e-e157-eab61e46c259"
      },
      "execution_count": null,
      "outputs": [
        {
          "output_type": "execute_result",
          "data": {
            "text/plain": [
              "array([0.08021815, 0.11967141, 0.80011044])"
            ]
          },
          "metadata": {},
          "execution_count": 10
        }
      ]
    },
    {
      "cell_type": "markdown",
      "source": [
        "# **All Activation Functions:**\n",
        "**ReLU (Rectified Linear Unit)  \n",
        "Sigmoid  \n",
        "Tanh  \n",
        "Softmax    \n",
        "Leaky ReLU  \n",
        "ELU (Exponential Linear Unit)  \n",
        "Swish**   "
      ],
      "metadata": {
        "id": "PESyw7A4QRWg"
      }
    },
    {
      "cell_type": "markdown",
      "source": [
        "**Importing all the required libraries**"
      ],
      "metadata": {
        "id": "Io0APH75Qizs"
      }
    },
    {
      "cell_type": "code",
      "source": [
        "import tensorflow as tf\n",
        "from tensorflow.keras import layers, models\n",
        "import matplotlib.pyplot as plt\n",
        "import numpy as np"
      ],
      "metadata": {
        "id": "dMjsTOUVQenH"
      },
      "execution_count": null,
      "outputs": []
    },
    {
      "cell_type": "code",
      "source": [
        "# Load the MNIST dataset\n",
        "(X_train, y_train), (X_test, y_test) = tf.keras.datasets.mnist.load_data()\n",
        "# Normalize the images to the range [0, 1]\n",
        "X_train, X_test = X_train / 255.0, X_test / 255.0\n",
        "# Flatten the images from 28x28 to 784-dimensional vectors\n",
        "X_train = X_train.reshape(-1, 784)\n",
        "X_test = X_test.reshape(-1, 784)"
      ],
      "metadata": {
        "colab": {
          "base_uri": "https://localhost:8080/"
        },
        "id": "y0Cb1__mQoHr",
        "outputId": "2d5a9375-5322-473e-d8b7-20e6b846f801"
      },
      "execution_count": null,
      "outputs": [
        {
          "output_type": "stream",
          "name": "stdout",
          "text": [
            "Downloading data from https://storage.googleapis.com/tensorflow/tf-keras-datasets/mnist.npz\n",
            "\u001b[1m11490434/11490434\u001b[0m \u001b[32m━━━━━━━━━━━━━━━━━━━━\u001b[0m\u001b[37m\u001b[0m \u001b[1m0s\u001b[0m 0us/step\n"
          ]
        }
      ]
    },
    {
      "cell_type": "code",
      "source": [
        "# Define the model\n",
        "def create_model(activation_function):\n",
        "  model = models.Sequential()\n",
        "  # First hidden layer with the specified activation function\n",
        "  model.add(layers.Dense(64, activation=activation_function, input_shape=(784,)))\n",
        "  # Second hidden layer with the same activation function\n",
        "  model.add(layers.Dense(64, activation=activation_function))\n",
        "  # Output layer (softmax for classification)\n",
        "  model.add(layers.Dense(10, activation='softmax')) # 10 classes for MNIST\n",
        "  model.compile(optimizer='adam',\n",
        "    loss='sparse_categorical_crossentropy',\n",
        "    metrics=['accuracy'])\n",
        "\n",
        "  return model"
      ],
      "metadata": {
        "id": "o7nCFT1bQvw8"
      },
      "execution_count": null,
      "outputs": []
    },
    {
      "cell_type": "code",
      "source": [
        "# Activation functions to demonstrate\n",
        "activation_functions = ['relu', 'sigmoid', 'tanh', 'softmax', 'leaky_relu', 'elu', 'swish']\n",
        "# Create a subplot to visualize the activation functions\n",
        "fig, axes = plt.subplots(3, 3, figsize=(7.5,7.5))\n",
        "axes = axes.flatten()\n",
        "# Plot and demonstrate each activation function\n",
        "for idx, activation in enumerate(activation_functions):\n",
        "  ax = axes[idx]\n",
        "  # Generate an input range from -10 to 10 for plotting\n",
        "  x = np.linspace(-10, 10, 1000)\n",
        "  if activation == 'relu':\n",
        "    y = np.maximum(0, x) # ReLU function\n",
        "  elif activation == 'sigmoid':\n",
        "    y = 1 / (1 + np.exp(-x)) # Sigmoid function\n",
        "  elif activation == 'tanh':\n",
        "    y = np.tanh(x) # Tanh function\n",
        "  elif activation == 'softmax':\n",
        "  # Softmax is not typically used in isolation for a single input, so we simulate i\n",
        "    y = np.exp(x) / np.sum(np.exp(x)) # Softmax function (simplified)\n",
        "  elif activation == 'leaky_relu':\n",
        "    y = np.where(x > 0, x, 0.01 * x) # Leaky ReLU function\n",
        "  elif activation == 'elu':\n",
        "    y = np.where(x > 0, x, np.exp(x) - 1) # ELU function\n",
        "  elif activation == 'swish':\n",
        "    y = x * (1 / (1 + np.exp(-x))) # Swish function\n",
        "  # Plot the activation function\n",
        "  ax.plot(x, y)\n",
        "  ax.set_title(f\"Activation: {activation}\")\n",
        "  ax.grid(True)\n",
        "plt.tight_layout()\n",
        "plt.show()"
      ],
      "metadata": {
        "colab": {
          "base_uri": "https://localhost:8080/",
          "height": 757
        },
        "id": "aeUUZiysQ0vY",
        "outputId": "fec5c029-2ddd-4ad4-96c8-4a246dd98e1c"
      },
      "execution_count": null,
      "outputs": [
        {
          "output_type": "display_data",
          "data": {
            "text/plain": [
              "<Figure size 750x750 with 9 Axes>"
            ],
            "image/png": "[encoded data removed]"
          },
          "metadata": {}
        }
      ]
    },
    {
      "cell_type": "code",
      "source": [
        "# Train and evaluate the model for each activation function\n",
        "results = {}\n",
        "for activation in activation_functions:\n",
        "  print(f\"\\nTraining model with {activation} activation function...\")\n",
        "  model = create_model(activation_function=activation)\n",
        "  # Train the model (we will train for a few epochs for demonstration purposes)\n",
        "  model.fit(X_train, y_train, epochs=3, batch_size=64, validation_data=(X_test, y_test))\n",
        "  # Evaluate the model on the test data\n",
        "  test_loss, test_acc = model.evaluate(X_test, y_test, verbose=0)\n",
        "  results[activation] = test_acc\n",
        "  print(f\"{activation} test accuracy: {test_acc:.4f}\")\n",
        "# Print the results\n",
        "print(\"\\nTest accuracy for each activation function:\")\n",
        "for activation, accuracy in results.items():\n",
        "  print(f\"{activation}: {accuracy:.4f}\")"
      ],
      "metadata": {
        "colab": {
          "base_uri": "https://localhost:8080/"
        },
        "id": "KCNkEgVzRc0Z",
        "outputId": "62d6b1c1-9a82-473a-cd39-95dfa6c8db84"
      },
      "execution_count": null,
      "outputs": [
        {
          "output_type": "stream",
          "name": "stdout",
          "text": [
            "\n",
            "Training model with relu activation function...\n",
            "Epoch 1/3\n",
            "\u001b[1m938/938\u001b[0m \u001b[32m━━━━━━━━━━━━━━━━━━━━\u001b[0m\u001b[37m\u001b[0m \u001b[1m5s\u001b[0m 3ms/step - accuracy: 0.8302 - loss: 0.5900 - val_accuracy: 0.9509 - val_loss: 0.1669\n",
            "Epoch 2/3\n",
            "\u001b[1m938/938\u001b[0m \u001b[32m━━━━━━━━━━━━━━━━━━━━\u001b[0m\u001b[37m\u001b[0m \u001b[1m6s\u001b[0m 4ms/step - accuracy: 0.9533 - loss: 0.1582 - val_accuracy: 0.9614 - val_loss: 0.1249\n",
            "Epoch 3/3\n",
            "\u001b[1m938/938\u001b[0m \u001b[32m━━━━━━━━━━━━━━━━━━━━\u001b[0m\u001b[37m\u001b[0m \u001b[1m4s\u001b[0m 3ms/step - accuracy: 0.9695 - loss: 0.1042 - val_accuracy: 0.9688 - val_loss: 0.1025\n",
            "relu test accuracy: 0.9688\n",
            "\n",
            "Training model with sigmoid activation function...\n",
            "Epoch 1/3\n",
            "\u001b[1m938/938\u001b[0m \u001b[32m━━━━━━━━━━━━━━━━━━━━\u001b[0m\u001b[37m\u001b[0m \u001b[1m5s\u001b[0m 4ms/step - accuracy: 0.6778 - loss: 1.2124 - val_accuracy: 0.9234 - val_loss: 0.2866\n",
            "Epoch 2/3\n",
            "\u001b[1m938/938\u001b[0m \u001b[32m━━━━━━━━━━━━━━━━━━━━\u001b[0m\u001b[37m\u001b[0m \u001b[1m4s\u001b[0m 3ms/step - accuracy: 0.9260 - loss: 0.2623 - val_accuracy: 0.9397 - val_loss: 0.2086\n",
            "Epoch 3/3\n",
            "\u001b[1m938/938\u001b[0m \u001b[32m━━━━━━━━━━━━━━━━━━━━\u001b[0m\u001b[37m\u001b[0m \u001b[1m5s\u001b[0m 3ms/step - accuracy: 0.9456 - loss: 0.1904 - val_accuracy: 0.9517 - val_loss: 0.1649\n",
            "sigmoid test accuracy: 0.9517\n",
            "\n",
            "Training model with tanh activation function...\n",
            "Epoch 1/3\n",
            "\u001b[1m938/938\u001b[0m \u001b[32m━━━━━━━━━━━━━━━━━━━━\u001b[0m\u001b[37m\u001b[0m \u001b[1m5s\u001b[0m 5ms/step - accuracy: 0.8482 - loss: 0.5401 - val_accuracy: 0.9440 - val_loss: 0.1885\n",
            "Epoch 2/3\n",
            "\u001b[1m938/938\u001b[0m \u001b[32m━━━━━━━━━━━━━━━━━━━━\u001b[0m\u001b[37m\u001b[0m \u001b[1m4s\u001b[0m 3ms/step - accuracy: 0.9536 - loss: 0.1600 - val_accuracy: 0.9624 - val_loss: 0.1257\n",
            "Epoch 3/3\n",
            "\u001b[1m938/938\u001b[0m \u001b[32m━━━━━━━━━━━━━━━━━━━━\u001b[0m\u001b[37m\u001b[0m \u001b[1m3s\u001b[0m 3ms/step - accuracy: 0.9670 - loss: 0.1081 - val_accuracy: 0.9668 - val_loss: 0.1088\n",
            "tanh test accuracy: 0.9668\n",
            "\n",
            "Training model with softmax activation function...\n",
            "Epoch 1/3\n",
            "\u001b[1m938/938\u001b[0m \u001b[32m━━━━━━━━━━━━━━━━━━━━\u001b[0m\u001b[37m\u001b[0m \u001b[1m5s\u001b[0m 4ms/step - accuracy: 0.3502 - loss: 2.2147 - val_accuracy: 0.7538 - val_loss: 1.5205\n",
            "Epoch 2/3\n",
            "\u001b[1m938/938\u001b[0m \u001b[32m━━━━━━━━━━━━━━━━━━━━\u001b[0m\u001b[37m\u001b[0m \u001b[1m4s\u001b[0m 3ms/step - accuracy: 0.7573 - loss: 1.2672 - val_accuracy: 0.7617 - val_loss: 0.8201\n",
            "Epoch 3/3\n",
            "\u001b[1m938/938\u001b[0m \u001b[32m━━━━━━━━━━━━━━━━━━━━\u001b[0m\u001b[37m\u001b[0m \u001b[1m7s\u001b[0m 5ms/step - accuracy: 0.7639 - loss: 0.7626 - val_accuracy: 0.7635 - val_loss: 0.6591\n",
            "softmax test accuracy: 0.7635\n",
            "\n",
            "Training model with leaky_relu activation function...\n",
            "Epoch 1/3\n",
            "\u001b[1m938/938\u001b[0m \u001b[32m━━━━━━━━━━━━━━━━━━━━\u001b[0m\u001b[37m\u001b[0m \u001b[1m4s\u001b[0m 3ms/step - accuracy: 0.8373 - loss: 0.5627 - val_accuracy: 0.9451 - val_loss: 0.1806\n",
            "Epoch 2/3\n",
            "\u001b[1m938/938\u001b[0m \u001b[32m━━━━━━━━━━━━━━━━━━━━\u001b[0m\u001b[37m\u001b[0m \u001b[1m3s\u001b[0m 3ms/step - accuracy: 0.9490 - loss: 0.1738 - val_accuracy: 0.9586 - val_loss: 0.1377\n",
            "Epoch 3/3\n",
            "\u001b[1m938/938\u001b[0m \u001b[32m━━━━━━━━━━━━━━━━━━━━\u001b[0m\u001b[37m\u001b[0m \u001b[1m4s\u001b[0m 4ms/step - accuracy: 0.9634 - loss: 0.1229 - val_accuracy: 0.9650 - val_loss: 0.1163\n",
            "leaky_relu test accuracy: 0.9650\n",
            "\n",
            "Training model with elu activation function...\n",
            "Epoch 1/3\n",
            "\u001b[1m938/938\u001b[0m \u001b[32m━━━━━━━━━━━━━━━━━━━━\u001b[0m\u001b[37m\u001b[0m \u001b[1m4s\u001b[0m 3ms/step - accuracy: 0.8491 - loss: 0.5267 - val_accuracy: 0.9453 - val_loss: 0.1806\n",
            "Epoch 2/3\n",
            "\u001b[1m938/938\u001b[0m \u001b[32m━━━━━━━━━━━━━━━━━━━━\u001b[0m\u001b[37m\u001b[0m \u001b[1m3s\u001b[0m 3ms/step - accuracy: 0.9498 - loss: 0.1683 - val_accuracy: 0.9637 - val_loss: 0.1255\n",
            "Epoch 3/3\n",
            "\u001b[1m938/938\u001b[0m \u001b[32m━━━━━━━━━━━━━━━━━━━━\u001b[0m\u001b[37m\u001b[0m \u001b[1m4s\u001b[0m 4ms/step - accuracy: 0.9651 - loss: 0.1169 - val_accuracy: 0.9680 - val_loss: 0.1080\n",
            "elu test accuracy: 0.9680\n",
            "\n",
            "Training model with swish activation function...\n",
            "Epoch 1/3\n",
            "\u001b[1m938/938\u001b[0m \u001b[32m━━━━━━━━━━━━━━━━━━━━\u001b[0m\u001b[37m\u001b[0m \u001b[1m4s\u001b[0m 3ms/step - accuracy: 0.8336 - loss: 0.5734 - val_accuracy: 0.9490 - val_loss: 0.1707\n",
            "Epoch 2/3\n",
            "\u001b[1m938/938\u001b[0m \u001b[32m━━━━━━━━━━━━━━━━━━━━\u001b[0m\u001b[37m\u001b[0m \u001b[1m3s\u001b[0m 3ms/step - accuracy: 0.9548 - loss: 0.1528 - val_accuracy: 0.9608 - val_loss: 0.1269\n",
            "Epoch 3/3\n",
            "\u001b[1m938/938\u001b[0m \u001b[32m━━━━━━━━━━━━━━━━━━━━\u001b[0m\u001b[37m\u001b[0m \u001b[1m7s\u001b[0m 5ms/step - accuracy: 0.9671 - loss: 0.1092 - val_accuracy: 0.9646 - val_loss: 0.1102\n",
            "swish test accuracy: 0.9646\n",
            "\n",
            "Test accuracy for each activation function:\n",
            "relu: 0.9688\n",
            "sigmoid: 0.9517\n",
            "tanh: 0.9668\n",
            "softmax: 0.7635\n",
            "leaky_relu: 0.9650\n",
            "elu: 0.9680\n",
            "swish: 0.9646\n"
          ]
        }
      ]
    }
  ]
}